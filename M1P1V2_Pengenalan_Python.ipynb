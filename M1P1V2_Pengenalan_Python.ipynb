{
  "nbformat": 4,
  "nbformat_minor": 0,
  "metadata": {
    "colab": {
      "name": "M1P1V2_Pengenalan_Python.ipynb",
      "provenance": [],
      "collapsed_sections": [],
      "authorship_tag": "ABX9TyO4+aAhh9wqBHB2iJNrXg6n",
      "include_colab_link": true
    },
    "kernelspec": {
      "name": "python3",
      "display_name": "Python 3"
    },
    "language_info": {
      "name": "python"
    }
  },
  "cells": [
    {
      "cell_type": "markdown",
      "metadata": {
        "id": "view-in-github",
        "colab_type": "text"
      },
      "source": [
        "<a href=\"https://colab.research.google.com/github/khanapujiyanti/M1P1V2_Pengenalan_Python/blob/main/M1P1V2_Pengenalan_Python.ipynb\" target=\"_parent\"><img src=\"https://colab.research.google.com/assets/colab-badge.svg\" alt=\"Open In Colab\"/></a>"
      ]
    },
    {
      "cell_type": "markdown",
      "metadata": {
        "id": "9YSonOzF8VFd"
      },
      "source": [
        "# Pengenalan Python"
      ]
    },
    {
      "cell_type": "markdown",
      "metadata": {
        "id": "4r9gsPbC8dDJ"
      },
      "source": [
        "Python adalah Bahasa pemrograman tingkat tinggi dengan dynamic semantics, bersifat objek oriented, dan interpretatif. Bahasa pemrograman ini fokus dikembangkan pada keterbacaan bahasa pemrograman.\n",
        "1.   **Bahasa Pemrograman Tingkat Tinggi (High Level Programming)** Artinya sintaks kode lebih mudah ditefsirkan oleh manusia.\n",
        "2.   **Interpretatif** ini artinya bahasa ini memerlukan intrepeter atau penerjemah. Ini memungkinkan bagi kita untuk menggunakan Bahasa yang lebih mudah kita pahami.\n",
        "3. **Object Oriented** Ini berartibahwa bahasa pemrograman ini berorientasi kepada objek . Hal ini membuat Python lebih mudah untuk dikembangkan.\n",
        "4. **Dynamic Semantics** Python secara ototmatis akan menyesuaikan tipe dari suatu variable berdasarkan inputnya.\n",
        "\n"
      ]
    },
    {
      "cell_type": "markdown",
      "metadata": {
        "id": "llvcS5Q9EbKx"
      },
      "source": [
        "# Mengapa Python?"
      ]
    },
    {
      "cell_type": "markdown",
      "metadata": {
        "id": "tgrSketl_Ieo"
      },
      "source": [
        "\n",
        "1. Mudah dipahami\n",
        "2. Gratis dan open source\n",
        "3. Dinamis\n",
        "4. Memiliki Library Terlengkap untuk Data Sains\n"
      ]
    },
    {
      "cell_type": "markdown",
      "metadata": {
        "id": "wYww2FvDAlPk"
      },
      "source": [
        "# Struktur Program pada Python\n",
        "Python pada umumnya terdiri dari: \n",
        "\n",
        "**1. Statements**"
      ]
    },
    {
      "cell_type": "code",
      "metadata": {
        "colab": {
          "base_uri": "https://localhost:8080/"
        },
        "id": "u_5tRVOH9O9f",
        "outputId": "fbf4f3a6-f217-4272-de71-3ea3c48f82ff"
      },
      "source": [
        "print(\"belajar python menyenangkan\")\n",
        "print(\"hallo dunia\")"
      ],
      "execution_count": null,
      "outputs": [
        {
          "output_type": "stream",
          "name": "stdout",
          "text": [
            "belajar python menyenangkan\n",
            "hallo dunia\n"
          ]
        }
      ]
    },
    {
      "cell_type": "markdown",
      "metadata": {
        "id": "dZTCX-LpBSzT"
      },
      "source": [
        "**2. Variables**"
      ]
    },
    {
      "cell_type": "code",
      "metadata": {
        "id": "7gx---YH7_SN"
      },
      "source": [
        "bilangan1 = 5\n",
        "bilangan2 = 10\n",
        "kalimat = \"Pejuang Data 3.0\""
      ],
      "execution_count": null,
      "outputs": []
    },
    {
      "cell_type": "markdown",
      "metadata": {
        "id": "DXKuNXo9BsFB"
      },
      "source": [
        "**3. Literals**: Simbol-simbol yang dapat kita gunakan untuk mengisi suatu variable."
      ]
    },
    {
      "cell_type": "markdown",
      "metadata": {
        "id": "H9vJGunwCOf7"
      },
      "source": [
        "**4. Operators**: Simbol-simbol yang dapat digunakan untuk mengubah nilai dari sutu variabel dengan melibatkan satu atau lebih variable dan literal."
      ]
    },
    {
      "cell_type": "markdown",
      "metadata": {
        "id": "324s92b-C1Id"
      },
      "source": [
        "**5. Reserved Words**: Kumpulan kata-kata yang memiliki makna khusus dalam bahasa pemrograman python. Kata False, return, dan for merupakan contoh dari reserved words.\n"
      ]
    },
    {
      "cell_type": "markdown",
      "metadata": {
        "id": "A40iHlxCE_Le"
      },
      "source": [
        "**6. Whitespace**: Pada bahasa Python, spasi dan tab memiliki makna khusus untuk menandai serangkaian blok dalam kode Python."
      ]
    },
    {
      "cell_type": "markdown",
      "metadata": {
        "id": "El0qyk11Fnzt"
      },
      "source": [
        "**7. Comments**: Comments merupakan sekumpulan teks yang dituliskan di dalam sebuah pemrograman yang tidak akan mempengaruhi hasil dari sebuah pemrograman."
      ]
    },
    {
      "cell_type": "markdown",
      "metadata": {
        "id": "l-FWpuR6GbMP"
      },
      "source": [
        "Terdapat dua jenis comments di dalam Python, yaitu:\n",
        "**a. single line comment** (comments dalam satu baris) seperti pada contoh berikut:"
      ]
    },
    {
      "cell_type": "code",
      "metadata": {
        "colab": {
          "base_uri": "https://localhost:8080/"
        },
        "id": "E0GvqQ8hG5CC",
        "outputId": "c41537ba-a8c9-4391-a91f-c5e0a4e8bec4"
      },
      "source": [
        "# Ini adalah comment\n",
        "print(\"belajar python\")"
      ],
      "execution_count": null,
      "outputs": [
        {
          "output_type": "stream",
          "name": "stdout",
          "text": [
            "belajar python\n"
          ]
        }
      ]
    },
    {
      "cell_type": "markdown",
      "metadata": {
        "id": "uA4FYH2pHHVy"
      },
      "source": [
        "**b. multi line comment** (comments dalam beberapa jenis)yang dapat dituliskan seperti pada contoh berikut:\n"
      ]
    },
    {
      "cell_type": "code",
      "metadata": {
        "colab": {
          "base_uri": "https://localhost:8080/"
        },
        "id": "c0YfAP_oHiK1",
        "outputId": "4925f0b8-0a91-4c8f-a828-78390783aa6a"
      },
      "source": [
        "'''\n",
        "Ini adalah komentar  panjang\n",
        "Bisa digunakan untuk memberikan penjelasan \n",
        "panjang pada sell kode python,\n",
        "Misal dokumentasi program, spesifikasi \n",
        "input output atau yang lainnya \n",
        "'''\n",
        "print(\"belajar Python menyenangkan\")"
      ],
      "execution_count": null,
      "outputs": [
        {
          "output_type": "stream",
          "name": "stdout",
          "text": [
            "belajar Python menyenangkan\n"
          ]
        }
      ]
    }
  ]
}